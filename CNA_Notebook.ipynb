{
  "nbformat": 4,
  "nbformat_minor": 0,
  "metadata": {
    "colab": {
      "name": "CNA_Notebook.ipynb",
      "provenance": [],
      "collapsed_sections": []
    },
    "kernelspec": {
      "name": "python3",
      "display_name": "Python 3"
    },
    "accelerator": "GPU",
    "widgets": {
      "application/vnd.jupyter.widget-state+json": {
        "38cd0ad34bb24ce083a2eabebc318dc6": {
          "model_module": "@jupyter-widgets/controls",
          "model_name": "HBoxModel",
          "state": {
            "_view_name": "HBoxView",
            "_dom_classes": [],
            "_model_name": "HBoxModel",
            "_view_module": "@jupyter-widgets/controls",
            "_model_module_version": "1.5.0",
            "_view_count": null,
            "_view_module_version": "1.5.0",
            "box_style": "",
            "layout": "IPY_MODEL_16c610bf828b4486a22f0dfe45401c05",
            "_model_module": "@jupyter-widgets/controls",
            "children": [
              "IPY_MODEL_f9e452267d174193af926bace9ae2ea8",
              "IPY_MODEL_43e481a8620142bfa409b78d94d773d9"
            ]
          }
        },
        "16c610bf828b4486a22f0dfe45401c05": {
          "model_module": "@jupyter-widgets/base",
          "model_name": "LayoutModel",
          "state": {
            "_view_name": "LayoutView",
            "grid_template_rows": null,
            "right": null,
            "justify_content": null,
            "_view_module": "@jupyter-widgets/base",
            "overflow": null,
            "_model_module_version": "1.2.0",
            "_view_count": null,
            "flex_flow": null,
            "width": null,
            "min_width": null,
            "border": null,
            "align_items": null,
            "bottom": null,
            "_model_module": "@jupyter-widgets/base",
            "top": null,
            "grid_column": null,
            "overflow_y": null,
            "overflow_x": null,
            "grid_auto_flow": null,
            "grid_area": null,
            "grid_template_columns": null,
            "flex": null,
            "_model_name": "LayoutModel",
            "justify_items": null,
            "grid_row": null,
            "max_height": null,
            "align_content": null,
            "visibility": null,
            "align_self": null,
            "height": null,
            "min_height": null,
            "padding": null,
            "grid_auto_rows": null,
            "grid_gap": null,
            "max_width": null,
            "order": null,
            "_view_module_version": "1.2.0",
            "grid_template_areas": null,
            "object_position": null,
            "object_fit": null,
            "grid_auto_columns": null,
            "margin": null,
            "display": null,
            "left": null
          }
        },
        "f9e452267d174193af926bace9ae2ea8": {
          "model_module": "@jupyter-widgets/controls",
          "model_name": "IntProgressModel",
          "state": {
            "_view_name": "ProgressView",
            "style": "IPY_MODEL_b2b92c389b1945a78d08bcda54e35a7b",
            "_dom_classes": [],
            "description": "",
            "_model_name": "IntProgressModel",
            "bar_style": "success",
            "max": 1,
            "_view_module": "@jupyter-widgets/controls",
            "_model_module_version": "1.5.0",
            "value": 1,
            "_view_count": null,
            "_view_module_version": "1.5.0",
            "orientation": "horizontal",
            "min": 0,
            "description_tooltip": null,
            "_model_module": "@jupyter-widgets/controls",
            "layout": "IPY_MODEL_11709d1003884a4195fa42a0eac5eb32"
          }
        },
        "43e481a8620142bfa409b78d94d773d9": {
          "model_module": "@jupyter-widgets/controls",
          "model_name": "HTMLModel",
          "state": {
            "_view_name": "HTMLView",
            "style": "IPY_MODEL_eae846632f514ec08527c6c939943369",
            "_dom_classes": [],
            "description": "",
            "_model_name": "HTMLModel",
            "placeholder": "​",
            "_view_module": "@jupyter-widgets/controls",
            "_model_module_version": "1.5.0",
            "value": " 9920512/? [00:04&lt;00:00, 2160772.80it/s]",
            "_view_count": null,
            "_view_module_version": "1.5.0",
            "description_tooltip": null,
            "_model_module": "@jupyter-widgets/controls",
            "layout": "IPY_MODEL_66c201494efc4c9c8e1ca3e5f0e897ad"
          }
        },
        "b2b92c389b1945a78d08bcda54e35a7b": {
          "model_module": "@jupyter-widgets/controls",
          "model_name": "ProgressStyleModel",
          "state": {
            "_view_name": "StyleView",
            "_model_name": "ProgressStyleModel",
            "description_width": "initial",
            "_view_module": "@jupyter-widgets/base",
            "_model_module_version": "1.5.0",
            "_view_count": null,
            "_view_module_version": "1.2.0",
            "bar_color": null,
            "_model_module": "@jupyter-widgets/controls"
          }
        },
        "11709d1003884a4195fa42a0eac5eb32": {
          "model_module": "@jupyter-widgets/base",
          "model_name": "LayoutModel",
          "state": {
            "_view_name": "LayoutView",
            "grid_template_rows": null,
            "right": null,
            "justify_content": null,
            "_view_module": "@jupyter-widgets/base",
            "overflow": null,
            "_model_module_version": "1.2.0",
            "_view_count": null,
            "flex_flow": null,
            "width": null,
            "min_width": null,
            "border": null,
            "align_items": null,
            "bottom": null,
            "_model_module": "@jupyter-widgets/base",
            "top": null,
            "grid_column": null,
            "overflow_y": null,
            "overflow_x": null,
            "grid_auto_flow": null,
            "grid_area": null,
            "grid_template_columns": null,
            "flex": null,
            "_model_name": "LayoutModel",
            "justify_items": null,
            "grid_row": null,
            "max_height": null,
            "align_content": null,
            "visibility": null,
            "align_self": null,
            "height": null,
            "min_height": null,
            "padding": null,
            "grid_auto_rows": null,
            "grid_gap": null,
            "max_width": null,
            "order": null,
            "_view_module_version": "1.2.0",
            "grid_template_areas": null,
            "object_position": null,
            "object_fit": null,
            "grid_auto_columns": null,
            "margin": null,
            "display": null,
            "left": null
          }
        },
        "eae846632f514ec08527c6c939943369": {
          "model_module": "@jupyter-widgets/controls",
          "model_name": "DescriptionStyleModel",
          "state": {
            "_view_name": "StyleView",
            "_model_name": "DescriptionStyleModel",
            "description_width": "",
            "_view_module": "@jupyter-widgets/base",
            "_model_module_version": "1.5.0",
            "_view_count": null,
            "_view_module_version": "1.2.0",
            "_model_module": "@jupyter-widgets/controls"
          }
        },
        "66c201494efc4c9c8e1ca3e5f0e897ad": {
          "model_module": "@jupyter-widgets/base",
          "model_name": "LayoutModel",
          "state": {
            "_view_name": "LayoutView",
            "grid_template_rows": null,
            "right": null,
            "justify_content": null,
            "_view_module": "@jupyter-widgets/base",
            "overflow": null,
            "_model_module_version": "1.2.0",
            "_view_count": null,
            "flex_flow": null,
            "width": null,
            "min_width": null,
            "border": null,
            "align_items": null,
            "bottom": null,
            "_model_module": "@jupyter-widgets/base",
            "top": null,
            "grid_column": null,
            "overflow_y": null,
            "overflow_x": null,
            "grid_auto_flow": null,
            "grid_area": null,
            "grid_template_columns": null,
            "flex": null,
            "_model_name": "LayoutModel",
            "justify_items": null,
            "grid_row": null,
            "max_height": null,
            "align_content": null,
            "visibility": null,
            "align_self": null,
            "height": null,
            "min_height": null,
            "padding": null,
            "grid_auto_rows": null,
            "grid_gap": null,
            "max_width": null,
            "order": null,
            "_view_module_version": "1.2.0",
            "grid_template_areas": null,
            "object_position": null,
            "object_fit": null,
            "grid_auto_columns": null,
            "margin": null,
            "display": null,
            "left": null
          }
        },
        "2811a03b2a804accbafbc61ee45af1e3": {
          "model_module": "@jupyter-widgets/controls",
          "model_name": "HBoxModel",
          "state": {
            "_view_name": "HBoxView",
            "_dom_classes": [],
            "_model_name": "HBoxModel",
            "_view_module": "@jupyter-widgets/controls",
            "_model_module_version": "1.5.0",
            "_view_count": null,
            "_view_module_version": "1.5.0",
            "box_style": "",
            "layout": "IPY_MODEL_833bc1758c2d4c0f96edfb7f1637b90a",
            "_model_module": "@jupyter-widgets/controls",
            "children": [
              "IPY_MODEL_80e8020e1f9841a6b56df3ee67a9699f",
              "IPY_MODEL_d817465358cb433aa6b8e03c4b394007"
            ]
          }
        },
        "833bc1758c2d4c0f96edfb7f1637b90a": {
          "model_module": "@jupyter-widgets/base",
          "model_name": "LayoutModel",
          "state": {
            "_view_name": "LayoutView",
            "grid_template_rows": null,
            "right": null,
            "justify_content": null,
            "_view_module": "@jupyter-widgets/base",
            "overflow": null,
            "_model_module_version": "1.2.0",
            "_view_count": null,
            "flex_flow": null,
            "width": null,
            "min_width": null,
            "border": null,
            "align_items": null,
            "bottom": null,
            "_model_module": "@jupyter-widgets/base",
            "top": null,
            "grid_column": null,
            "overflow_y": null,
            "overflow_x": null,
            "grid_auto_flow": null,
            "grid_area": null,
            "grid_template_columns": null,
            "flex": null,
            "_model_name": "LayoutModel",
            "justify_items": null,
            "grid_row": null,
            "max_height": null,
            "align_content": null,
            "visibility": null,
            "align_self": null,
            "height": null,
            "min_height": null,
            "padding": null,
            "grid_auto_rows": null,
            "grid_gap": null,
            "max_width": null,
            "order": null,
            "_view_module_version": "1.2.0",
            "grid_template_areas": null,
            "object_position": null,
            "object_fit": null,
            "grid_auto_columns": null,
            "margin": null,
            "display": null,
            "left": null
          }
        },
        "80e8020e1f9841a6b56df3ee67a9699f": {
          "model_module": "@jupyter-widgets/controls",
          "model_name": "IntProgressModel",
          "state": {
            "_view_name": "ProgressView",
            "style": "IPY_MODEL_7670069555ce4f99bf4bdc3bb310af53",
            "_dom_classes": [],
            "description": "",
            "_model_name": "IntProgressModel",
            "bar_style": "success",
            "max": 1,
            "_view_module": "@jupyter-widgets/controls",
            "_model_module_version": "1.5.0",
            "value": 1,
            "_view_count": null,
            "_view_module_version": "1.5.0",
            "orientation": "horizontal",
            "min": 0,
            "description_tooltip": null,
            "_model_module": "@jupyter-widgets/controls",
            "layout": "IPY_MODEL_31345833ff984067ab51d880ad5bcb59"
          }
        },
        "d817465358cb433aa6b8e03c4b394007": {
          "model_module": "@jupyter-widgets/controls",
          "model_name": "HTMLModel",
          "state": {
            "_view_name": "HTMLView",
            "style": "IPY_MODEL_75644a653dee4b8cbdd95d154e156164",
            "_dom_classes": [],
            "description": "",
            "_model_name": "HTMLModel",
            "placeholder": "​",
            "_view_module": "@jupyter-widgets/controls",
            "_model_module_version": "1.5.0",
            "value": " 32768/? [00:00&lt;00:00, 131433.12it/s]",
            "_view_count": null,
            "_view_module_version": "1.5.0",
            "description_tooltip": null,
            "_model_module": "@jupyter-widgets/controls",
            "layout": "IPY_MODEL_86638845fc914d65b207f89677197871"
          }
        },
        "7670069555ce4f99bf4bdc3bb310af53": {
          "model_module": "@jupyter-widgets/controls",
          "model_name": "ProgressStyleModel",
          "state": {
            "_view_name": "StyleView",
            "_model_name": "ProgressStyleModel",
            "description_width": "initial",
            "_view_module": "@jupyter-widgets/base",
            "_model_module_version": "1.5.0",
            "_view_count": null,
            "_view_module_version": "1.2.0",
            "bar_color": null,
            "_model_module": "@jupyter-widgets/controls"
          }
        },
        "31345833ff984067ab51d880ad5bcb59": {
          "model_module": "@jupyter-widgets/base",
          "model_name": "LayoutModel",
          "state": {
            "_view_name": "LayoutView",
            "grid_template_rows": null,
            "right": null,
            "justify_content": null,
            "_view_module": "@jupyter-widgets/base",
            "overflow": null,
            "_model_module_version": "1.2.0",
            "_view_count": null,
            "flex_flow": null,
            "width": null,
            "min_width": null,
            "border": null,
            "align_items": null,
            "bottom": null,
            "_model_module": "@jupyter-widgets/base",
            "top": null,
            "grid_column": null,
            "overflow_y": null,
            "overflow_x": null,
            "grid_auto_flow": null,
            "grid_area": null,
            "grid_template_columns": null,
            "flex": null,
            "_model_name": "LayoutModel",
            "justify_items": null,
            "grid_row": null,
            "max_height": null,
            "align_content": null,
            "visibility": null,
            "align_self": null,
            "height": null,
            "min_height": null,
            "padding": null,
            "grid_auto_rows": null,
            "grid_gap": null,
            "max_width": null,
            "order": null,
            "_view_module_version": "1.2.0",
            "grid_template_areas": null,
            "object_position": null,
            "object_fit": null,
            "grid_auto_columns": null,
            "margin": null,
            "display": null,
            "left": null
          }
        },
        "75644a653dee4b8cbdd95d154e156164": {
          "model_module": "@jupyter-widgets/controls",
          "model_name": "DescriptionStyleModel",
          "state": {
            "_view_name": "StyleView",
            "_model_name": "DescriptionStyleModel",
            "description_width": "",
            "_view_module": "@jupyter-widgets/base",
            "_model_module_version": "1.5.0",
            "_view_count": null,
            "_view_module_version": "1.2.0",
            "_model_module": "@jupyter-widgets/controls"
          }
        },
        "86638845fc914d65b207f89677197871": {
          "model_module": "@jupyter-widgets/base",
          "model_name": "LayoutModel",
          "state": {
            "_view_name": "LayoutView",
            "grid_template_rows": null,
            "right": null,
            "justify_content": null,
            "_view_module": "@jupyter-widgets/base",
            "overflow": null,
            "_model_module_version": "1.2.0",
            "_view_count": null,
            "flex_flow": null,
            "width": null,
            "min_width": null,
            "border": null,
            "align_items": null,
            "bottom": null,
            "_model_module": "@jupyter-widgets/base",
            "top": null,
            "grid_column": null,
            "overflow_y": null,
            "overflow_x": null,
            "grid_auto_flow": null,
            "grid_area": null,
            "grid_template_columns": null,
            "flex": null,
            "_model_name": "LayoutModel",
            "justify_items": null,
            "grid_row": null,
            "max_height": null,
            "align_content": null,
            "visibility": null,
            "align_self": null,
            "height": null,
            "min_height": null,
            "padding": null,
            "grid_auto_rows": null,
            "grid_gap": null,
            "max_width": null,
            "order": null,
            "_view_module_version": "1.2.0",
            "grid_template_areas": null,
            "object_position": null,
            "object_fit": null,
            "grid_auto_columns": null,
            "margin": null,
            "display": null,
            "left": null
          }
        },
        "4a8448c033ca4006b5f59babc4e545ec": {
          "model_module": "@jupyter-widgets/controls",
          "model_name": "HBoxModel",
          "state": {
            "_view_name": "HBoxView",
            "_dom_classes": [],
            "_model_name": "HBoxModel",
            "_view_module": "@jupyter-widgets/controls",
            "_model_module_version": "1.5.0",
            "_view_count": null,
            "_view_module_version": "1.5.0",
            "box_style": "",
            "layout": "IPY_MODEL_fc1f4c177f9e4533927c69bd58cd958f",
            "_model_module": "@jupyter-widgets/controls",
            "children": [
              "IPY_MODEL_8af4d81719404af297f0d718cedefac7",
              "IPY_MODEL_52d03582dc4145cd83aed2e7589b4c80"
            ]
          }
        },
        "fc1f4c177f9e4533927c69bd58cd958f": {
          "model_module": "@jupyter-widgets/base",
          "model_name": "LayoutModel",
          "state": {
            "_view_name": "LayoutView",
            "grid_template_rows": null,
            "right": null,
            "justify_content": null,
            "_view_module": "@jupyter-widgets/base",
            "overflow": null,
            "_model_module_version": "1.2.0",
            "_view_count": null,
            "flex_flow": null,
            "width": null,
            "min_width": null,
            "border": null,
            "align_items": null,
            "bottom": null,
            "_model_module": "@jupyter-widgets/base",
            "top": null,
            "grid_column": null,
            "overflow_y": null,
            "overflow_x": null,
            "grid_auto_flow": null,
            "grid_area": null,
            "grid_template_columns": null,
            "flex": null,
            "_model_name": "LayoutModel",
            "justify_items": null,
            "grid_row": null,
            "max_height": null,
            "align_content": null,
            "visibility": null,
            "align_self": null,
            "height": null,
            "min_height": null,
            "padding": null,
            "grid_auto_rows": null,
            "grid_gap": null,
            "max_width": null,
            "order": null,
            "_view_module_version": "1.2.0",
            "grid_template_areas": null,
            "object_position": null,
            "object_fit": null,
            "grid_auto_columns": null,
            "margin": null,
            "display": null,
            "left": null
          }
        },
        "8af4d81719404af297f0d718cedefac7": {
          "model_module": "@jupyter-widgets/controls",
          "model_name": "IntProgressModel",
          "state": {
            "_view_name": "ProgressView",
            "style": "IPY_MODEL_087ddfea48fa4b82bf70fc386c748a13",
            "_dom_classes": [],
            "description": "",
            "_model_name": "IntProgressModel",
            "bar_style": "success",
            "max": 1,
            "_view_module": "@jupyter-widgets/controls",
            "_model_module_version": "1.5.0",
            "value": 1,
            "_view_count": null,
            "_view_module_version": "1.5.0",
            "orientation": "horizontal",
            "min": 0,
            "description_tooltip": null,
            "_model_module": "@jupyter-widgets/controls",
            "layout": "IPY_MODEL_2bb16dc1ae624af6a6e0369b69d04312"
          }
        },
        "52d03582dc4145cd83aed2e7589b4c80": {
          "model_module": "@jupyter-widgets/controls",
          "model_name": "HTMLModel",
          "state": {
            "_view_name": "HTMLView",
            "style": "IPY_MODEL_da9af6f6268648d7a56cfed2617f3b72",
            "_dom_classes": [],
            "description": "",
            "_model_name": "HTMLModel",
            "placeholder": "​",
            "_view_module": "@jupyter-widgets/controls",
            "_model_module_version": "1.5.0",
            "value": " 1654784/? [00:03&lt;00:00, 535400.55it/s]",
            "_view_count": null,
            "_view_module_version": "1.5.0",
            "description_tooltip": null,
            "_model_module": "@jupyter-widgets/controls",
            "layout": "IPY_MODEL_e6190138bf924b3998030326e63be4d1"
          }
        },
        "087ddfea48fa4b82bf70fc386c748a13": {
          "model_module": "@jupyter-widgets/controls",
          "model_name": "ProgressStyleModel",
          "state": {
            "_view_name": "StyleView",
            "_model_name": "ProgressStyleModel",
            "description_width": "initial",
            "_view_module": "@jupyter-widgets/base",
            "_model_module_version": "1.5.0",
            "_view_count": null,
            "_view_module_version": "1.2.0",
            "bar_color": null,
            "_model_module": "@jupyter-widgets/controls"
          }
        },
        "2bb16dc1ae624af6a6e0369b69d04312": {
          "model_module": "@jupyter-widgets/base",
          "model_name": "LayoutModel",
          "state": {
            "_view_name": "LayoutView",
            "grid_template_rows": null,
            "right": null,
            "justify_content": null,
            "_view_module": "@jupyter-widgets/base",
            "overflow": null,
            "_model_module_version": "1.2.0",
            "_view_count": null,
            "flex_flow": null,
            "width": null,
            "min_width": null,
            "border": null,
            "align_items": null,
            "bottom": null,
            "_model_module": "@jupyter-widgets/base",
            "top": null,
            "grid_column": null,
            "overflow_y": null,
            "overflow_x": null,
            "grid_auto_flow": null,
            "grid_area": null,
            "grid_template_columns": null,
            "flex": null,
            "_model_name": "LayoutModel",
            "justify_items": null,
            "grid_row": null,
            "max_height": null,
            "align_content": null,
            "visibility": null,
            "align_self": null,
            "height": null,
            "min_height": null,
            "padding": null,
            "grid_auto_rows": null,
            "grid_gap": null,
            "max_width": null,
            "order": null,
            "_view_module_version": "1.2.0",
            "grid_template_areas": null,
            "object_position": null,
            "object_fit": null,
            "grid_auto_columns": null,
            "margin": null,
            "display": null,
            "left": null
          }
        },
        "da9af6f6268648d7a56cfed2617f3b72": {
          "model_module": "@jupyter-widgets/controls",
          "model_name": "DescriptionStyleModel",
          "state": {
            "_view_name": "StyleView",
            "_model_name": "DescriptionStyleModel",
            "description_width": "",
            "_view_module": "@jupyter-widgets/base",
            "_model_module_version": "1.5.0",
            "_view_count": null,
            "_view_module_version": "1.2.0",
            "_model_module": "@jupyter-widgets/controls"
          }
        },
        "e6190138bf924b3998030326e63be4d1": {
          "model_module": "@jupyter-widgets/base",
          "model_name": "LayoutModel",
          "state": {
            "_view_name": "LayoutView",
            "grid_template_rows": null,
            "right": null,
            "justify_content": null,
            "_view_module": "@jupyter-widgets/base",
            "overflow": null,
            "_model_module_version": "1.2.0",
            "_view_count": null,
            "flex_flow": null,
            "width": null,
            "min_width": null,
            "border": null,
            "align_items": null,
            "bottom": null,
            "_model_module": "@jupyter-widgets/base",
            "top": null,
            "grid_column": null,
            "overflow_y": null,
            "overflow_x": null,
            "grid_auto_flow": null,
            "grid_area": null,
            "grid_template_columns": null,
            "flex": null,
            "_model_name": "LayoutModel",
            "justify_items": null,
            "grid_row": null,
            "max_height": null,
            "align_content": null,
            "visibility": null,
            "align_self": null,
            "height": null,
            "min_height": null,
            "padding": null,
            "grid_auto_rows": null,
            "grid_gap": null,
            "max_width": null,
            "order": null,
            "_view_module_version": "1.2.0",
            "grid_template_areas": null,
            "object_position": null,
            "object_fit": null,
            "grid_auto_columns": null,
            "margin": null,
            "display": null,
            "left": null
          }
        },
        "31888254a63844bbb884e5802dc84367": {
          "model_module": "@jupyter-widgets/controls",
          "model_name": "HBoxModel",
          "state": {
            "_view_name": "HBoxView",
            "_dom_classes": [],
            "_model_name": "HBoxModel",
            "_view_module": "@jupyter-widgets/controls",
            "_model_module_version": "1.5.0",
            "_view_count": null,
            "_view_module_version": "1.5.0",
            "box_style": "",
            "layout": "IPY_MODEL_cbc1678da0e147398d3f4702746098c1",
            "_model_module": "@jupyter-widgets/controls",
            "children": [
              "IPY_MODEL_62f182f37d7348409342e2fbe158b23b",
              "IPY_MODEL_0c5647389b734fa5afd1f73c5a6d3030"
            ]
          }
        },
        "cbc1678da0e147398d3f4702746098c1": {
          "model_module": "@jupyter-widgets/base",
          "model_name": "LayoutModel",
          "state": {
            "_view_name": "LayoutView",
            "grid_template_rows": null,
            "right": null,
            "justify_content": null,
            "_view_module": "@jupyter-widgets/base",
            "overflow": null,
            "_model_module_version": "1.2.0",
            "_view_count": null,
            "flex_flow": null,
            "width": null,
            "min_width": null,
            "border": null,
            "align_items": null,
            "bottom": null,
            "_model_module": "@jupyter-widgets/base",
            "top": null,
            "grid_column": null,
            "overflow_y": null,
            "overflow_x": null,
            "grid_auto_flow": null,
            "grid_area": null,
            "grid_template_columns": null,
            "flex": null,
            "_model_name": "LayoutModel",
            "justify_items": null,
            "grid_row": null,
            "max_height": null,
            "align_content": null,
            "visibility": null,
            "align_self": null,
            "height": null,
            "min_height": null,
            "padding": null,
            "grid_auto_rows": null,
            "grid_gap": null,
            "max_width": null,
            "order": null,
            "_view_module_version": "1.2.0",
            "grid_template_areas": null,
            "object_position": null,
            "object_fit": null,
            "grid_auto_columns": null,
            "margin": null,
            "display": null,
            "left": null
          }
        },
        "62f182f37d7348409342e2fbe158b23b": {
          "model_module": "@jupyter-widgets/controls",
          "model_name": "IntProgressModel",
          "state": {
            "_view_name": "ProgressView",
            "style": "IPY_MODEL_1cd93f2ac9184229bf88dea3d057f4a8",
            "_dom_classes": [],
            "description": "",
            "_model_name": "IntProgressModel",
            "bar_style": "success",
            "max": 1,
            "_view_module": "@jupyter-widgets/controls",
            "_model_module_version": "1.5.0",
            "value": 1,
            "_view_count": null,
            "_view_module_version": "1.5.0",
            "orientation": "horizontal",
            "min": 0,
            "description_tooltip": null,
            "_model_module": "@jupyter-widgets/controls",
            "layout": "IPY_MODEL_f93413d542eb4c18b6546227a388f8bc"
          }
        },
        "0c5647389b734fa5afd1f73c5a6d3030": {
          "model_module": "@jupyter-widgets/controls",
          "model_name": "HTMLModel",
          "state": {
            "_view_name": "HTMLView",
            "style": "IPY_MODEL_0ae205bf18e94d3884a47820058fed45",
            "_dom_classes": [],
            "description": "",
            "_model_name": "HTMLModel",
            "placeholder": "​",
            "_view_module": "@jupyter-widgets/controls",
            "_model_module_version": "1.5.0",
            "value": " 8192/? [00:02&lt;00:00, 3607.89it/s]",
            "_view_count": null,
            "_view_module_version": "1.5.0",
            "description_tooltip": null,
            "_model_module": "@jupyter-widgets/controls",
            "layout": "IPY_MODEL_ec7bffd4430c42f5be6d6457822fa044"
          }
        },
        "1cd93f2ac9184229bf88dea3d057f4a8": {
          "model_module": "@jupyter-widgets/controls",
          "model_name": "ProgressStyleModel",
          "state": {
            "_view_name": "StyleView",
            "_model_name": "ProgressStyleModel",
            "description_width": "initial",
            "_view_module": "@jupyter-widgets/base",
            "_model_module_version": "1.5.0",
            "_view_count": null,
            "_view_module_version": "1.2.0",
            "bar_color": null,
            "_model_module": "@jupyter-widgets/controls"
          }
        },
        "f93413d542eb4c18b6546227a388f8bc": {
          "model_module": "@jupyter-widgets/base",
          "model_name": "LayoutModel",
          "state": {
            "_view_name": "LayoutView",
            "grid_template_rows": null,
            "right": null,
            "justify_content": null,
            "_view_module": "@jupyter-widgets/base",
            "overflow": null,
            "_model_module_version": "1.2.0",
            "_view_count": null,
            "flex_flow": null,
            "width": null,
            "min_width": null,
            "border": null,
            "align_items": null,
            "bottom": null,
            "_model_module": "@jupyter-widgets/base",
            "top": null,
            "grid_column": null,
            "overflow_y": null,
            "overflow_x": null,
            "grid_auto_flow": null,
            "grid_area": null,
            "grid_template_columns": null,
            "flex": null,
            "_model_name": "LayoutModel",
            "justify_items": null,
            "grid_row": null,
            "max_height": null,
            "align_content": null,
            "visibility": null,
            "align_self": null,
            "height": null,
            "min_height": null,
            "padding": null,
            "grid_auto_rows": null,
            "grid_gap": null,
            "max_width": null,
            "order": null,
            "_view_module_version": "1.2.0",
            "grid_template_areas": null,
            "object_position": null,
            "object_fit": null,
            "grid_auto_columns": null,
            "margin": null,
            "display": null,
            "left": null
          }
        },
        "0ae205bf18e94d3884a47820058fed45": {
          "model_module": "@jupyter-widgets/controls",
          "model_name": "DescriptionStyleModel",
          "state": {
            "_view_name": "StyleView",
            "_model_name": "DescriptionStyleModel",
            "description_width": "",
            "_view_module": "@jupyter-widgets/base",
            "_model_module_version": "1.5.0",
            "_view_count": null,
            "_view_module_version": "1.2.0",
            "_model_module": "@jupyter-widgets/controls"
          }
        },
        "ec7bffd4430c42f5be6d6457822fa044": {
          "model_module": "@jupyter-widgets/base",
          "model_name": "LayoutModel",
          "state": {
            "_view_name": "LayoutView",
            "grid_template_rows": null,
            "right": null,
            "justify_content": null,
            "_view_module": "@jupyter-widgets/base",
            "overflow": null,
            "_model_module_version": "1.2.0",
            "_view_count": null,
            "flex_flow": null,
            "width": null,
            "min_width": null,
            "border": null,
            "align_items": null,
            "bottom": null,
            "_model_module": "@jupyter-widgets/base",
            "top": null,
            "grid_column": null,
            "overflow_y": null,
            "overflow_x": null,
            "grid_auto_flow": null,
            "grid_area": null,
            "grid_template_columns": null,
            "flex": null,
            "_model_name": "LayoutModel",
            "justify_items": null,
            "grid_row": null,
            "max_height": null,
            "align_content": null,
            "visibility": null,
            "align_self": null,
            "height": null,
            "min_height": null,
            "padding": null,
            "grid_auto_rows": null,
            "grid_gap": null,
            "max_width": null,
            "order": null,
            "_view_module_version": "1.2.0",
            "grid_template_areas": null,
            "object_position": null,
            "object_fit": null,
            "grid_auto_columns": null,
            "margin": null,
            "display": null,
            "left": null
          }
        }
      }
    }
  },
  "cells": [
    {
      "cell_type": "markdown",
      "metadata": {
        "id": "t0-VXSCM7avd",
        "colab_type": "text"
      },
      "source": [
        "# The Cognitive Neural Activation Metric (CNA)\n",
        "\n",
        "This notebook provides a straightforward implementation of CNA and CNA-Margin.\n",
        "\n",
        "\n",
        "**Outline**\n",
        "\n",
        "0. General Dataset Set-up\n",
        "1. Basic Model and Training Functions\n",
        "2. CNA Functions\n",
        "3. Training Loop\n"
      ]
    },
    {
      "cell_type": "markdown",
      "metadata": {
        "id": "3secgg798917",
        "colab_type": "text"
      },
      "source": [
        "## 0. General Set-up\n",
        "\n",
        "Here we provide general code set-up: package requirements, train-loaders, etc."
      ]
    },
    {
      "cell_type": "code",
      "metadata": {
        "id": "8ocl9Mfl8LH6",
        "colab_type": "code",
        "colab": {}
      },
      "source": [
        "## Some general imports needed:\n",
        "import numpy as np\n",
        "import torch\n",
        "import torch.nn as nn\n",
        "import torchvision\n",
        "import torchvision.datasets as dataset\n",
        "import torchvision.transforms as transforms\n",
        "import matplotlib.pyplot as plt\n",
        "import time\n",
        "\n",
        "## Area and distance-related imports for CNA-Margin:\n",
        "from shapely.geometry import Polygon\n",
        "from scipy.interpolate import interp1d\n",
        "from scipy.spatial.distance import directed_hausdorff, pdist, cdist"
      ],
      "execution_count": null,
      "outputs": []
    },
    {
      "cell_type": "markdown",
      "metadata": {
        "id": "uG5SflgE9eVz",
        "colab_type": "text"
      },
      "source": [
        "Make sure GPU is enabled: In Colab, at the top, \n",
        "\n",
        "click `Runtime` -> `Change runtime type` -> `Hardware Accelerator` -> `GPU`"
      ]
    },
    {
      "cell_type": "code",
      "metadata": {
        "id": "rFFtp9BmLxo9",
        "colab_type": "code",
        "colab": {
          "base_uri": "https://localhost:8080/",
          "height": 34
        },
        "outputId": "4e0735c7-df79-4b75-a958-3a186b98423e"
      },
      "source": [
        "gpu_boole = torch.cuda.is_available()\n",
        "gpu_boole"
      ],
      "execution_count": null,
      "outputs": [
        {
          "output_type": "execute_result",
          "data": {
            "text/plain": [
              "True"
            ]
          },
          "metadata": {
            "tags": []
          },
          "execution_count": 2
        }
      ]
    },
    {
      "cell_type": "code",
      "metadata": {
        "colab_type": "code",
        "id": "IAb83ZuC52lC",
        "colab": {
          "base_uri": "https://localhost:8080/",
          "height": 332,
          "referenced_widgets": [
            "38cd0ad34bb24ce083a2eabebc318dc6",
            "16c610bf828b4486a22f0dfe45401c05",
            "f9e452267d174193af926bace9ae2ea8",
            "43e481a8620142bfa409b78d94d773d9",
            "b2b92c389b1945a78d08bcda54e35a7b",
            "11709d1003884a4195fa42a0eac5eb32",
            "eae846632f514ec08527c6c939943369",
            "66c201494efc4c9c8e1ca3e5f0e897ad",
            "2811a03b2a804accbafbc61ee45af1e3",
            "833bc1758c2d4c0f96edfb7f1637b90a",
            "80e8020e1f9841a6b56df3ee67a9699f",
            "d817465358cb433aa6b8e03c4b394007",
            "7670069555ce4f99bf4bdc3bb310af53",
            "31345833ff984067ab51d880ad5bcb59",
            "75644a653dee4b8cbdd95d154e156164",
            "86638845fc914d65b207f89677197871",
            "4a8448c033ca4006b5f59babc4e545ec",
            "fc1f4c177f9e4533927c69bd58cd958f",
            "8af4d81719404af297f0d718cedefac7",
            "52d03582dc4145cd83aed2e7589b4c80",
            "087ddfea48fa4b82bf70fc386c748a13",
            "2bb16dc1ae624af6a6e0369b69d04312",
            "da9af6f6268648d7a56cfed2617f3b72",
            "e6190138bf924b3998030326e63be4d1",
            "31888254a63844bbb884e5802dc84367",
            "cbc1678da0e147398d3f4702746098c1",
            "62f182f37d7348409342e2fbe158b23b",
            "0c5647389b734fa5afd1f73c5a6d3030",
            "1cd93f2ac9184229bf88dea3d057f4a8",
            "f93413d542eb4c18b6546227a388f8bc",
            "0ae205bf18e94d3884a47820058fed45",
            "ec7bffd4430c42f5be6d6457822fa044"
          ]
        },
        "outputId": "c6433654-4721-41b8-a2ef-0a5410640f39"
      },
      "source": [
        "## Basic dataloading for MNIST.\n",
        "training = dataset.MNIST(root ='./data', transform=transforms.ToTensor(), train=True, download=True)\n",
        "testing =  dataset.MNIST(root ='./data', transform = transforms.ToTensor(), train=False, download=True)\n",
        "train_loader = torch.utils.data.DataLoader(dataset=training, batch_size = 128, shuffle=True)\n",
        "test_loader = torch.utils.data.DataLoader(dataset=testing, batch_size = 128, shuffle=False)"
      ],
      "execution_count": null,
      "outputs": [
        {
          "output_type": "stream",
          "text": [
            "Downloading http://yann.lecun.com/exdb/mnist/train-images-idx3-ubyte.gz to ./data/MNIST/raw/train-images-idx3-ubyte.gz\n"
          ],
          "name": "stdout"
        },
        {
          "output_type": "display_data",
          "data": {
            "application/vnd.jupyter.widget-view+json": {
              "model_id": "38cd0ad34bb24ce083a2eabebc318dc6",
              "version_minor": 0,
              "version_major": 2
            },
            "text/plain": [
              "HBox(children=(IntProgress(value=1, bar_style='info', max=1), HTML(value='')))"
            ]
          },
          "metadata": {
            "tags": []
          }
        },
        {
          "output_type": "stream",
          "text": [
            "Extracting ./data/MNIST/raw/train-images-idx3-ubyte.gz to ./data/MNIST/raw\n",
            "Downloading http://yann.lecun.com/exdb/mnist/train-labels-idx1-ubyte.gz to ./data/MNIST/raw/train-labels-idx1-ubyte.gz\n"
          ],
          "name": "stdout"
        },
        {
          "output_type": "display_data",
          "data": {
            "application/vnd.jupyter.widget-view+json": {
              "model_id": "2811a03b2a804accbafbc61ee45af1e3",
              "version_minor": 0,
              "version_major": 2
            },
            "text/plain": [
              "HBox(children=(IntProgress(value=1, bar_style='info', max=1), HTML(value='')))"
            ]
          },
          "metadata": {
            "tags": []
          }
        },
        {
          "output_type": "stream",
          "text": [
            "Extracting ./data/MNIST/raw/train-labels-idx1-ubyte.gz to ./data/MNIST/raw\n",
            "Downloading http://yann.lecun.com/exdb/mnist/t10k-images-idx3-ubyte.gz to ./data/MNIST/raw/t10k-images-idx3-ubyte.gz\n",
            "\n"
          ],
          "name": "stdout"
        },
        {
          "output_type": "display_data",
          "data": {
            "application/vnd.jupyter.widget-view+json": {
              "model_id": "4a8448c033ca4006b5f59babc4e545ec",
              "version_minor": 0,
              "version_major": 2
            },
            "text/plain": [
              "HBox(children=(IntProgress(value=1, bar_style='info', max=1), HTML(value='')))"
            ]
          },
          "metadata": {
            "tags": []
          }
        },
        {
          "output_type": "stream",
          "text": [
            "Extracting ./data/MNIST/raw/t10k-images-idx3-ubyte.gz to ./data/MNIST/raw\n",
            "Downloading http://yann.lecun.com/exdb/mnist/t10k-labels-idx1-ubyte.gz to ./data/MNIST/raw/t10k-labels-idx1-ubyte.gz\n"
          ],
          "name": "stdout"
        },
        {
          "output_type": "display_data",
          "data": {
            "application/vnd.jupyter.widget-view+json": {
              "model_id": "31888254a63844bbb884e5802dc84367",
              "version_minor": 0,
              "version_major": 2
            },
            "text/plain": [
              "HBox(children=(IntProgress(value=1, bar_style='info', max=1), HTML(value='')))"
            ]
          },
          "metadata": {
            "tags": []
          }
        },
        {
          "output_type": "stream",
          "text": [
            "Extracting ./data/MNIST/raw/t10k-labels-idx1-ubyte.gz to ./data/MNIST/raw\n",
            "Processing...\n",
            "Done!\n"
          ],
          "name": "stdout"
        }
      ]
    },
    {
      "cell_type": "code",
      "metadata": {
        "colab_type": "code",
        "id": "iNegXCYN52aB",
        "colab": {
          "base_uri": "https://localhost:8080/",
          "height": 333
        },
        "outputId": "5ab695e4-7d75-4839-e643-4d0601985a6d"
      },
      "source": [
        "## Plotting data to make sure it is correct:\n",
        "x,y = next(iter(train_loader))\n",
        "plt.imshow(x[0][0].cpu().data.numpy()) #plotting first channel of first image of MNIST\n",
        "plt.show()\n",
        "print('Label', y[0])"
      ],
      "execution_count": null,
      "outputs": [
        {
          "output_type": "stream",
          "text": [
            "\n"
          ],
          "name": "stdout"
        },
        {
          "output_type": "display_data",
          "data": {
            "image/png": "[encoded data removed]",
            "text/plain": [
              "<Figure size 432x288 with 1 Axes>"
            ]
          },
          "metadata": {
            "tags": [],
            "needs_background": "light"
          }
        },
        {
          "output_type": "stream",
          "text": [
            "\n",
            "\n",
            "Label tensor(1)\n"
          ],
          "name": "stdout"
        }
      ]
    },
    {
      "cell_type": "markdown",
      "metadata": {
        "colab_type": "text",
        "id": "h8UeQcnW51sS"
      },
      "source": [
        "If you see an image of one of training samples above, then everything is working correctly for the next section."
      ]
    },
    {
      "cell_type": "markdown",
      "metadata": {
        "id": "Xf98O6-QAWpr",
        "colab_type": "text"
      },
      "source": [
        "## 1. Basic Model and Training Functions"
      ]
    },
    {
      "cell_type": "markdown",
      "metadata": {
        "id": "XefTpBSaHwvj",
        "colab_type": "text"
      },
      "source": [
        "**Defining the model:**\n",
        "Here we define a simple multi-layer perceptron (MLP) model, with two hidden layers and relu activations."
      ]
    },
    {
      "cell_type": "code",
      "metadata": {
        "id": "cSMBOq6OAUek",
        "colab_type": "code",
        "colab": {}
      },
      "source": [
        "class Net(nn.Module):\n",
        "  def __init__(self, input_size, width, num_classes):\n",
        "    super(Net, self).__init__()\n",
        "\n",
        "    ##feedfoward layers:\n",
        "    self.ff1 = nn.Linear(input_size, width) #input\n",
        "\n",
        "    self.ff2 = nn.Linear(width, width) #hidden layers\n",
        "    self.ff3 = nn.Linear(width, width)\n",
        "\n",
        "    self.ff_out = nn.Linear(width, num_classes) #logit layer     \n",
        "\n",
        "    ##activations:\n",
        "    self.relu = nn.ReLU()\n",
        "\n",
        "    #other activations:\n",
        "    self.tanh = nn.Tanh()\n",
        "    self.sigmoid = nn.Sigmoid()\n",
        "\n",
        "    ## Some normalization functions.\n",
        "    ## Feel free to add them into the forward pass if you like.\n",
        "    \n",
        "    #dropout:\n",
        "    self.do = nn.Dropout()\n",
        "\n",
        "    #batch-normalization:\n",
        "    self.bn1 = nn.BatchNorm1d(width)\n",
        "    self.bn2 = nn.BatchNorm1d(width)\n",
        "    self.bn3 = nn.BatchNorm1d(width)\n",
        "\n",
        "                \n",
        "  def forward(self, input_data):\n",
        "    out = self.relu(self.ff1(input_data)) \n",
        "    out = self.relu(self.ff2(out)) \n",
        "    out = self.relu(self.ff3(out))\n",
        "    out = self.ff_out(out)\n",
        "    return out #returns class probabilities for each image\n"
      ],
      "execution_count": null,
      "outputs": []
    },
    {
      "cell_type": "markdown",
      "metadata": {
        "id": "iVIM33iCI0-2",
        "colab_type": "text"
      },
      "source": [
        "**Instantiating the model:** we instantiate the model with a width of 500 and 10 classes."
      ]
    },
    {
      "cell_type": "code",
      "metadata": {
        "id": "PcXASArYIsvj",
        "colab_type": "code",
        "colab": {}
      },
      "source": [
        "net = Net(input_size = 784, width = 500, num_classes = 10)\n",
        "if gpu_boole:\n",
        "  net = net.cuda()"
      ],
      "execution_count": null,
      "outputs": []
    },
    {
      "cell_type": "markdown",
      "metadata": {
        "id": "Sda-76CdJnlX",
        "colab_type": "text"
      },
      "source": [
        "**Defining the optimizer:** we set the optimization procedure as stochastic gradient descent with various parameters. We also define our loss function."
      ]
    },
    {
      "cell_type": "code",
      "metadata": {
        "id": "JNOhErrSJj3B",
        "colab_type": "code",
        "colab": {}
      },
      "source": [
        "optimizer = torch.optim.SGD(net.parameters(), lr = 0.0025, momentum = 0.9)\n",
        "loss_metric = nn.CrossEntropyLoss()"
      ],
      "execution_count": null,
      "outputs": []
    },
    {
      "cell_type": "markdown",
      "metadata": {
        "id": "G5u9uAJZKVNB",
        "colab_type": "text"
      },
      "source": [
        "**Defining dataset loaders:** here, we define the dataset loaders with a specific batch size of 128 and basic tensor transformation / preprocessing:\n",
        "\n"
      ]
    },
    {
      "cell_type": "code",
      "metadata": {
        "id": "cHSq5YEyK452",
        "colab_type": "code",
        "colab": {}
      },
      "source": [
        "training = dataset.MNIST(root ='./data', transform=transforms.ToTensor(), train=True, download=True)\n",
        "testing =  dataset.MNIST(root ='./data', transform = transforms.ToTensor(), train=False, download=True)\n",
        "train_loader = torch.utils.data.DataLoader(dataset=training, batch_size = 128, shuffle=True)\n",
        "test_loader = torch.utils.data.DataLoader(dataset=testing, batch_size = 128, shuffle=False)\n",
        "test_loader_shuffle = torch.utils.data.DataLoader(dataset=testing, batch_size = 128, shuffle=True)"
      ],
      "execution_count": null,
      "outputs": []
    },
    {
      "cell_type": "markdown",
      "metadata": {
        "id": "uAd34-RlM_a4",
        "colab_type": "text"
      },
      "source": [
        "**Defining training and test loss and accuracy functions:** These functions will be useful in our training loop to view are training and test loss/accuracy at each epoch."
      ]
    },
    {
      "cell_type": "code",
      "metadata": {
        "id": "1X7K9TaPNMDe",
        "colab_type": "code",
        "colab": {}
      },
      "source": [
        "def train_eval(verbose = 1):\n",
        "    correct = 0\n",
        "    total = 0\n",
        "    loss_sum = 0\n",
        "    for images, labels in train_loader:\n",
        "        if gpu_boole:\n",
        "            images, labels = images.cuda(), labels.cuda()\n",
        "        images = images.view(-1, 28*28)\n",
        "        outputs = net(images)\n",
        "        _, predicted = torch.max(outputs.data, 1)\n",
        "        total += labels.size(0)\n",
        "        correct += (predicted.float() == labels.float()).sum()\n",
        "\n",
        "        loss_sum += loss_metric(outputs,labels)\n",
        "        \n",
        "    if verbose:\n",
        "        print('Train accuracy: %f %%' % (100 * correct / total))\n",
        "        print('Train loss: %f' % (loss_sum.cpu().data.numpy().item() / total))\n",
        "\n",
        "    return 100.0 * correct / total, loss_sum.cpu().data.numpy().item() / total\n",
        "    \n",
        "def test_eval(verbose = 1):\n",
        "    correct = 0\n",
        "    total = 0\n",
        "    loss_sum = 0\n",
        "    for images, labels in test_loader:\n",
        "        if gpu_boole:\n",
        "            images, labels = images.cuda(), labels.cuda()\n",
        "        images = images.view(-1, 28*28)\n",
        "        outputs = net(images)\n",
        "        _, predicted = torch.max(outputs.data, 1)\n",
        "        total += labels.size(0)\n",
        "        correct += (predicted.float() == labels.float()).sum()\n",
        "\n",
        "        loss_sum += loss_metric(outputs,labels)\n",
        "\n",
        "    if verbose:\n",
        "        print('Test accuracy: %f %%' % (100 * correct / total))\n",
        "        print('Test loss: %f' % (loss_sum.cpu().data.numpy().item() / total))\n",
        "\n",
        "    return 100.0 * correct / total, loss_sum.cpu().data.numpy().item() / total\n"
      ],
      "execution_count": null,
      "outputs": []
    },
    {
      "cell_type": "markdown",
      "metadata": {
        "id": "WXMPAsv-zFmJ",
        "colab_type": "text"
      },
      "source": [
        "## 2. CNA Functions\n",
        "\n",
        "Here we define the CNA and CNA-Margin functions."
      ]
    },
    {
      "cell_type": "markdown",
      "metadata": {
        "id": "WUb6h_Qiz1jC",
        "colab_type": "text"
      },
      "source": [
        "**Entropy function:**"
      ]
    },
    {
      "cell_type": "code",
      "metadata": {
        "id": "oAo8VlWBz8B5",
        "colab_type": "code",
        "colab": {}
      },
      "source": [
        "def get_entropy(x):\n",
        "  hist = np.histogram(x, bins=1000, range = (0,1),density=True)\n",
        "  data = hist[0]\n",
        "  ent=0\n",
        "  for i in hist[0]:\n",
        "      if i!=0:\n",
        "          ent -= i * np.log2(abs(i))\n",
        "  return ent\n",
        "\n",
        "def get_entropy_batch_np(x):\n",
        "  entropy = []\n",
        "  for i in range(x.shape[0]):\n",
        "    entropy.append(get_entropy(x[i]))\n",
        "  entropy = np.array(entropy)\n",
        "  return entropy\n"
      ],
      "execution_count": null,
      "outputs": []
    },
    {
      "cell_type": "markdown",
      "metadata": {
        "id": "XaiyhpVa0hst",
        "colab_type": "text"
      },
      "source": [
        "**CNA Entropy and Slope functions:**"
      ]
    },
    {
      "cell_type": "code",
      "metadata": {
        "id": "8N6YOaqHzLJg",
        "colab_type": "code",
        "colab": {}
      },
      "source": [
        "def get_slopes(x, net):\n",
        "\n",
        "  activations = []\n",
        "  def get_activation_sums():\n",
        "      def hook(model, input, output):\n",
        "          activations.append(output.detach().view(output.shape[0],-1).sum(dim=1))\n",
        "      return hook \n",
        "\n",
        "  hooks = []\n",
        "  def register_hooks(module):    \n",
        "    if any([isinstance(module, nn.Linear), isinstance(module, nn.Conv2d)]):\n",
        "      handle = module.register_forward_hook(get_activation_sums())\n",
        "      hooks.append(handle)\n",
        "    if hasattr(module, 'children'):\n",
        "      children = list(module.children())\n",
        "      for i in range(len(children)):\n",
        "        register_hooks(children[i])  \n",
        "\n",
        "  register_hooks(net)\n",
        "  if len(hooks) > 1:\n",
        "    hooks[-1].remove()\n",
        "\n",
        "  output = net(x)\n",
        "\n",
        "  acts = np.array([a.cpu().data.numpy() for a in activations])\n",
        "\n",
        "  #De-registering hooks:\n",
        "  for hook in hooks:\n",
        "    hook.remove()\n",
        "\n",
        "  def threshold(M):\n",
        "      Mabs = np.abs(M)\n",
        "      M[Mabs<0.0000001] = 0\n",
        "      return M\n",
        "  \n",
        "  C = np.array([np.ones(len(acts)),np.arange(1,len(acts)+1)]).transpose()\n",
        "  Cf = np.linalg.inv((C.T).dot(C)).dot(C.T)\n",
        "  Cf = threshold(Cf)\n",
        "  Cf = Cf[1,:]\n",
        "\n",
        "  S = 0\n",
        "  for j in range(len(Cf)):\n",
        "      S += acts[j]*Cf[j]\n",
        "  \n",
        "  return S\n",
        "\n",
        "def get_CNA(x, net):\n",
        "  entropy = get_entropy_batch_np(x.cpu().data.numpy())\n",
        "  slopes = get_slopes(x, net)\n",
        "  return np.corrcoef(entropy,slopes)[0,1]\n"
      ],
      "execution_count": null,
      "outputs": []
    },
    {
      "cell_type": "markdown",
      "metadata": {
        "id": "tqUr7T_Iz9ww",
        "colab_type": "text"
      },
      "source": [
        "**CNA Margin sub-functions:**"
      ]
    },
    {
      "cell_type": "code",
      "metadata": {
        "id": "uY-E16fC0AgM",
        "colab_type": "code",
        "colab": {}
      },
      "source": [
        "def get_slopes_all(data_loader, net, flatten=False):    \n",
        "  slopes = []\n",
        "  for x, y in data_loader:\n",
        "      if flatten:\n",
        "          x = x.view(x.shape[0],-1)\n",
        "      if gpu_boole:\n",
        "          x = x.cuda()\n",
        "      slopes = slopes + list(get_slopes(x, net))            \n",
        "  slopes = np.array(slopes)\n",
        "  return slopes\n",
        "\n",
        "def get_entropy_all(data_loader):\n",
        "  entropy = []\n",
        "  for x, y in data_loader:\n",
        "      entropy = entropy + list(get_entropy_batch_np(x.cpu().data.numpy()))\n",
        "  entropy = np.array(entropy)\n",
        "  return entropy\n",
        "\n",
        "def running_mean(x, N):\n",
        "  cumsum = np.cumsum(np.insert(x, 0, 0)) \n",
        "  return (cumsum[N:] - cumsum[:-N]) / float(N)\n",
        "\n",
        "def get_normalized_slope_entropy_curves(net, train_loader, test_loader, flatten=True):\n",
        "  #Getting slopes and entropy for train and test sets:\n",
        "  slopes_train = get_slopes_all(train_loader, net, flatten = flatten)\n",
        "  slopes_test = get_slopes_all(test_loader, net, flatten = flatten)\n",
        "  entropy_train = get_entropy_all(train_loader)\n",
        "  entropy_test = get_entropy_all(test_loader)\n",
        "\n",
        "  #Indices of sorted entropy:\n",
        "  ent_ind_train = np.argsort(entropy_train)\n",
        "  ent_ind_test = np.argsort(entropy_test)\n",
        "\n",
        "  #Smoothing slope and entropy curves:\n",
        "  K = 25\n",
        "  slopes_train_smooth, entropy_train_smooth = running_mean(slopes_train[ent_ind_train],K), running_mean(entropy_train[ent_ind_train],K)\n",
        "  slopes_test_smooth, entropy_test_smooth = running_mean(slopes_test[ent_ind_test],K), running_mean(entropy_test[ent_ind_test],K)\n",
        "\n",
        "  #Min-max normalization of slopes and entropy w.r.t. training and test sets:\n",
        "  slopes_min, slopes_max = np.min([slopes_train_smooth.min(),slopes_test_smooth.min()]), np.max([slopes_train_smooth.max(),slopes_test_smooth.max()])\n",
        "  entropy_min, entropy_max = np.min([entropy_train_smooth.min(),entropy_test_smooth.min()]), np.max([entropy_train_smooth.max(),entropy_test_smooth.max()])  \n",
        "  slopes_min = np.min([slopes_train_smooth.min(),slopes_test_smooth.min()])\n",
        "  slopes_train_smooth -= slopes_min\n",
        "  slopes_test_smooth -= slopes_min\n",
        "  slopes_max = np.max([slopes_train_smooth.max(),slopes_test_smooth.max()])\n",
        "  slopes_train_smooth /= slopes_max\n",
        "  slopes_test_smooth /= slopes_max\n",
        "  \n",
        "  entropy_min = np.min([entropy_train_smooth.min(),entropy_test_smooth.min()])\n",
        "  entropy_train_smooth -= entropy_min\n",
        "  entropy_test_smooth -= entropy_min\n",
        "  entropy_max = np.max([entropy_train_smooth.max(),entropy_test_smooth.max()])\n",
        "  entropy_train_smooth /= entropy_max\n",
        "  entropy_test_smooth /= entropy_max\n",
        "\n",
        "  return [slopes_train_smooth, entropy_train_smooth, slopes_test_smooth, entropy_test_smooth]\n",
        "\n",
        "def curve_est(x, y, x2, y2, points=15): #Function for linear interpolation of curves    \n",
        "    f = interp1d(x, y)\n",
        "    f2 = interp1d(x2,y2)\n",
        "        \n",
        "    xnew = np.linspace ( min(x), max(x), num = points) \n",
        "    xnew2 = np.linspace ( min(x2), max(x2), num = points) \n",
        "    \n",
        "    ynew = f(xnew) \n",
        "    ynew2 = f2(xnew2) \n",
        "    \n",
        "    return xnew, ynew, xnew2, ynew2"
      ],
      "execution_count": null,
      "outputs": []
    },
    {
      "cell_type": "markdown",
      "metadata": {
        "id": "2NEXCqZhb5lW",
        "colab_type": "text"
      },
      "source": [
        "**CNA-Margin main functions:**"
      ]
    },
    {
      "cell_type": "code",
      "metadata": {
        "id": "JHn4z2MqZUEz",
        "colab_type": "code",
        "colab": {}
      },
      "source": [
        "#CNA-Area. Area between inscribed polygon of slope-entropy train-test curves:\n",
        "def CNA_A(train_loader, test_loader, net, flatten=True):\n",
        "\n",
        "  #Estimated, smoothed coordinates of slope-entropy curve:\n",
        "  xnew, ynew, xnew2, ynew2 = curve_est(*get_normalized_slope_entropy_curves(net, train_loader, test_loader, flatten=True), points = 100)\n",
        "\n",
        "  #Getting maximum circumscribed polygon:\n",
        "  array1 = np.array([xnew, ynew]).T\n",
        "  array2 = np.array([xnew2, ynew2]).T\n",
        "  array2 = np.flip(array2,axis=0)\n",
        "  polygon_points = np.concatenate((array1,array2,array1[0].reshape([1,2])),axis=0)\n",
        "  \n",
        "  polygon = Polygon(polygon_points)\n",
        "  area = polygon.area\n",
        "  \n",
        "  return area\n",
        "\n",
        "#Margin calculation. Getting the maximum interclass decision boundary of the network:\n",
        "def margin_calc(data_loader, net, flatten=True):\n",
        "    margin = torch.Tensor([])\n",
        "    if gpu_boole:\n",
        "        margin = margin.cuda()\n",
        "    for i, (x, y) in enumerate(data_loader):\n",
        "        if gpu_boole:\n",
        "            x, y = x.cuda(), y.cuda()\n",
        "        if flatten:\n",
        "            x = x.view(x.shape[0], -1)\n",
        "        output_m = net(x)\n",
        "        for k in range(y.size(0)):\n",
        "            output_m[k, y[k]] = output_m[k,:].min()\n",
        "            margin = torch.cat((margin, output_m[:, y].diag() - output_m[:, output_m.max(1)[1]].diag()), 0)\n",
        "    margin = margin.cpu().data.numpy()\n",
        "    val_margin = np.percentile( margin, 5 )    \n",
        "    return val_margin\n",
        "\n",
        "#CNA-Margin. Generalization gap metric based on CNA principles. \n",
        "#State-of-the-art for generalization gap prediction (as of 2019):\n",
        "def CNA_M(train_loader, test_loader, net, flatten=True):\n",
        "  cna_a = CNA_A(train_loader, test_loader, net, flatten=flatten)\n",
        "  tr_margin = margin_calc(train_loader, net, flatten=flatten)\n",
        "  cna_m = cna_a * tr_margin\n",
        "  return cna_m\n",
        "\n"
      ],
      "execution_count": null,
      "outputs": []
    },
    {
      "cell_type": "markdown",
      "metadata": {
        "id": "phyl1Y0Qg71d",
        "colab_type": "text"
      },
      "source": [
        "**Batch-wise CNA-M Functions:**"
      ]
    },
    {
      "cell_type": "code",
      "metadata": {
        "colab_type": "code",
        "id": "e_QpKvn5kg-_",
        "colab": {}
      },
      "source": [
        "def CNA_M_batch(net, x, y, test_loader, flatten=True):\n",
        "  for x_test, y_test in test_loader:\n",
        "    x_test, y_test = x_test, y_test\n",
        "    break\n",
        "\n",
        "  if gpu_boole:\n",
        "    x_test, y_test = x_test.cuda(), y_test.cuda()\n",
        "  if flatten:\n",
        "    x_test = x_test.view(x_test.shape[0],-1)\n",
        "\n",
        "  slopes_train, slopes_test = get_slopes(x, net), get_slopes(x_test, net)\n",
        "  entropy_train, entropy_test = get_entropy_batch_np(x.cpu().data.numpy()), get_entropy_batch_np(x_test.cpu().data.numpy())\n",
        "\n",
        "  ##Normalized curves:\n",
        "\n",
        "  #Indices of sorted entropy:\n",
        "  ent_ind_train = np.argsort(entropy_train)\n",
        "  ent_ind_test = np.argsort(entropy_test)\n",
        "\n",
        "  #Smoothing slope and entropy curves:\n",
        "  K = 25\n",
        "  slopes_train_smooth, entropy_train_smooth = running_mean(slopes_train[ent_ind_train],K), running_mean(entropy_train[ent_ind_train],K)\n",
        "  slopes_test_smooth, entropy_test_smooth = running_mean(slopes_test[ent_ind_test],K), running_mean(entropy_test[ent_ind_test],K)\n",
        "\n",
        "  #Min-max normalization of slopes and entropy w.r.t. training and test sets:\n",
        "  slopes_min, slopes_max = np.min([slopes_train_smooth.min(),slopes_test_smooth.min()]), np.max([slopes_train_smooth.max(),slopes_test_smooth.max()])\n",
        "  entropy_min, entropy_max = np.min([entropy_train_smooth.min(),entropy_test_smooth.min()]), np.max([entropy_train_smooth.max(),entropy_test_smooth.max()])  \n",
        "  slopes_min = np.min([slopes_train_smooth.min(),slopes_test_smooth.min()])\n",
        "  slopes_train_smooth -= slopes_min\n",
        "  slopes_test_smooth -= slopes_min\n",
        "  slopes_max = np.max([slopes_train_smooth.max(),slopes_test_smooth.max()])\n",
        "  slopes_train_smooth /= slopes_max\n",
        "  slopes_test_smooth /= slopes_max\n",
        "  \n",
        "  entropy_min = np.min([entropy_train_smooth.min(),entropy_test_smooth.min()])\n",
        "  entropy_train_smooth -= entropy_min\n",
        "  entropy_test_smooth -= entropy_min\n",
        "  entropy_max = np.max([entropy_train_smooth.max(),entropy_test_smooth.max()])\n",
        "  entropy_train_smooth /= entropy_max\n",
        "  entropy_test_smooth /= entropy_max\n",
        "\n",
        "  ## Interpolated Curves:\n",
        "  x1, y1, x2, y2 = slopes_train_smooth, entropy_train_smooth, slopes_test_smooth, entropy_test_smooth\n",
        "  points = 15\n",
        "\n",
        "  f = interp1d(x1, y1)\n",
        "  f2 = interp1d(x2, y2)\n",
        "      \n",
        "  xnew = np.linspace ( min(x1), max(x1), num = points) \n",
        "  xnew2 = np.linspace ( min(x2), max(x2), num = points) \n",
        "  \n",
        "  ynew = f(xnew) \n",
        "  ynew2 = f2(xnew2)\n",
        "\n",
        "  ## CNA-Area final calculation:\n",
        "\n",
        "  #Getting maximum circumscribed polygon:\n",
        "  array1 = np.array([xnew, ynew]).T\n",
        "  array2 = np.array([xnew2, ynew2]).T\n",
        "  array2 = np.flip(array2,axis=0)\n",
        "  polygon_points = np.concatenate((array1,array2,array1[0].reshape([1,2])),axis=0)\n",
        "  \n",
        "  polygon = Polygon(polygon_points)\n",
        "  area = polygon.area\n",
        "\n",
        "  ## CNA-Margin:\n",
        "\n",
        "  ## Margin for batch:\n",
        "  if gpu_boole:\n",
        "    x, y = x.cuda(), y.cuda()\n",
        "  if flatten:\n",
        "    x = x.view(x.shape[0], -1)\n",
        "    output_m = net(x)\n",
        "    for k in range(y.size(0)):\n",
        "      output_m[k, y[k]] = output_m[k,:].min()\n",
        "      margin = output_m[:, y].diag() - output_m[:, output_m.max(1)[1]].diag()\n",
        "  margin = margin.cpu().data.numpy()\n",
        "  tr_margin = np.percentile( margin, 5 )\n",
        "  \n",
        "  cna_m = area * tr_margin\n",
        "\n",
        "  return cna_m    \n"
      ],
      "execution_count": null,
      "outputs": []
    },
    {
      "cell_type": "markdown",
      "metadata": {
        "id": "Y5gVjIXkyt4l",
        "colab_type": "text"
      },
      "source": [
        "## 3. Training Loop\n",
        "\n",
        "Here, we give the training loop. A number of epochs is set. Loss is recorded and plotted at the end.\n",
        "\n",
        "We also record the CNA and CNA-Margin values over training."
      ]
    },
    {
      "cell_type": "code",
      "metadata": {
        "id": "fwDUdRlOLUwG",
        "colab_type": "code",
        "colab": {}
      },
      "source": [
        "#batch-wise boole, whether to calculate CNA metrics per batch or per epoch:\n",
        "per_batch = True\n",
        "\n",
        "#number of epochs to train for:\n",
        "epochs = 5\n",
        "\n",
        "#defining batch train loss recording arrays for later visualization/plotting:\n",
        "loss_batch_store = []\n",
        "CNA_store = []\n",
        "\n",
        "#CNA-M and generalization gap stores:\n",
        "gen_gap_store = []\n",
        "CNA_M_store = []\n",
        "\n",
        "print(\"Starting Training\")\n",
        "#training loop:\n",
        "for epoch in range(epochs):\n",
        "  time1 = time.time() #timekeeping\n",
        "\n",
        "  for i, (x,y) in enumerate(train_loader):\n",
        "\n",
        "    #reshaping to flat shape:\n",
        "    x = x.view(-1,28*28)\n",
        "\n",
        "    if gpu_boole:\n",
        "      x = x.cuda()\n",
        "      y = y.cuda()\n",
        "\n",
        "    #loss calculation and gradient update:\n",
        "\n",
        "    if i > 0 or epoch > 0:\n",
        "      optimizer.zero_grad()\n",
        "    outputs = net.forward(x)\n",
        "    loss = loss_metric(outputs,y)\n",
        "    loss.backward()\n",
        "\n",
        "    if i > 0 or epoch > 0:\n",
        "      loss_batch_store.append(loss.cpu().data.numpy().item())\n",
        "\n",
        "    ##performing update:\n",
        "    optimizer.step()\n",
        "\n",
        "    if per_batch:\n",
        "      CNA_val = get_CNA(x,net)\n",
        "      CNA_store.append(CNA_val)\n",
        "\n",
        "      CNA_M_val = CNA_M_batch(net, x, y, test_loader)\n",
        "      CNA_M_store.append(CNA_M_val)\n",
        "\n",
        "    optimizer.zero_grad()      \n",
        "\n",
        "\n",
        "  print(\"Epoch\",epoch+1,':')\n",
        "  train_perc, train_loss = train_eval()\n",
        "  test_perc, test_loss = test_eval()\n",
        "  gen_gap_val = np.abs(train_loss - test_loss)\n",
        "  gen_gap_store.append(gen_gap_val)\n",
        "\n",
        "  CNA_val = get_CNA(x,net)\n",
        "  CNA_store.append(CNA_val)\n",
        "  print(\"CNA Value for Last Minibatch of Epoch:\",CNA_val)\n",
        "\n",
        "  if not per_batch:\n",
        "    CNA_M_val = CNA_M(train_loader, test_loader, net)\n",
        "    CNA_M_store.append(CNA_M_val)\n",
        "  print(\"CNA-Margin Value for Last Minibatch of Epoch:\",CNA_M_val)\n",
        "  print(\"Generalization Gap Value for Last Minibatch of Epoch:\",gen_gap_val)\n",
        "\n",
        "  time2 = time.time() #timekeeping\n",
        "  print('Elapsed time for epoch:',time2 - time1,'s')\n",
        "  print('ETA of completion:',(time2 - time1)*(epochs - epoch - 1)/60,'minutes')\n",
        "  print()\n",
        "\n",
        "## Plotting batch-wise train loss curve:\n",
        "plt.plot(loss_batch_store, '-o', label = 'train_loss', color = 'blue')\n",
        "plt.xlabel('Minibatch Number')\n",
        "plt.ylabel('Mean Train Loss For Minibatch')\n",
        "plt.title('Train Loss Curve')\n",
        "plt.legend()\n",
        "plt.show()\n",
        "\n",
        "## Plotting epoch-wise/batch-wise CNA curve:\n",
        "plt.plot(CNA_store, '-o', label = 'cna_val', color = 'orange')\n",
        "if per_batch:\n",
        "  plt.xlabel('Minibatch Number')\n",
        "  plt.ylabel('CNA Value For Minibatch')\n",
        "else:\n",
        "  plt.xlabel('Epoch Number')\n",
        "  plt.ylabel('CNA Value For Epoch')\n",
        "plt.title('CNA Curve')\n",
        "plt.legend()\n",
        "plt.show()\n",
        "\n",
        "## Plotting epoch-wise/batch-wise CNA-M curve:\n",
        "plt.plot(running_mean(CNA_M_store,180), '-o', label = 'cna_m_val', color = 'red')\n",
        "if per_batch:\n",
        "  plt.xlabel('Minibatch Number')\n",
        "  plt.ylabel('CNA-M Value For Minibatch')\n",
        "else:\n",
        "  plt.xlabel('Epoch Number')\n",
        "  plt.ylabel('CNA-M Value For Epoch')\n",
        "plt.title('CNA-Margin Curve')\n",
        "plt.legend()\n",
        "plt.show()\n",
        "\n",
        "## Plotting epoch-wise/batch-wise generalization gap curve:\n",
        "plt.plot(gen_gap_store, '-o', label = 'gen_gap', color = 'green')\n",
        "plt.xlabel('Epoch Number')\n",
        "plt.ylabel('Generalization Gap For Epoch')\n",
        "plt.title('Generalization Gap Curve')\n",
        "plt.legend()\n",
        "plt.show()\n"
      ],
      "execution_count": null,
      "outputs": []
    },
    {
      "cell_type": "code",
      "metadata": {
        "id": "OlYuNSKYeMo4",
        "colab_type": "code",
        "colab": {
          "base_uri": "https://localhost:8080/",
          "height": 1000
        },
        "outputId": "694009e6-6a28-4679-b758-26b41a10d9b2"
      },
      "source": [
        "## Plotting batch-wise train loss curve:\n",
        "plt.plot(loss_batch_store, '-o', label = 'train_loss', color = 'blue')\n",
        "plt.xlabel('Minibatch Number')\n",
        "plt.ylabel('Mean Train Loss For Minibatch')\n",
        "plt.title('Train Loss Curve')\n",
        "plt.legend()\n",
        "plt.show()\n",
        "\n",
        "## Plotting epoch-wise/batch-wise CNA curve:\n",
        "plt.plot(CNA_store, '-o', label = 'cna_val', color = 'orange')\n",
        "if per_batch:\n",
        "  plt.xlabel('Minibatch Number')\n",
        "  plt.ylabel('CNA Value For Minibatch')\n",
        "else:\n",
        "  plt.xlabel('Epoch Number')\n",
        "  plt.ylabel('CNA Value For Epoch')\n",
        "plt.title('CNA Curve')\n",
        "plt.legend()\n",
        "plt.show()\n",
        "\n",
        "## Plotting epoch-wise/batch-wise CNA-M curve:\n",
        "plt.plot(running_mean(CNA_M_store, 180), '-o', label = 'cna_m_val', color = 'red')\n",
        "if per_batch:\n",
        "  plt.xlabel('Minibatch Number')\n",
        "  plt.ylabel('CNA-M Value For Minibatch')\n",
        "else:\n",
        "  plt.xlabel('Epoch Number')\n",
        "  plt.ylabel('CNA-M Value For Epoch')\n",
        "plt.title('CNA-Margin Curve')\n",
        "plt.legend()\n",
        "plt.show()\n",
        "\n",
        "## Plotting epoch-wise/batch-wise generalization gap curve:\n",
        "plt.plot(gen_gap_store, '-o', label = 'gen_gap', color = 'green')\n",
        "plt.xlabel('Epoch Number')\n",
        "plt.ylabel('Generalization Gap For Epoch')\n",
        "plt.title('Generalization Gap Curve')\n",
        "plt.legend()\n",
        "plt.show()\n"
      ],
      "execution_count": null,
      "outputs": [
        {
          "output_type": "display_data",
          "data": {
            "image/png": "[encoded data removed]",
            "text/plain": [
              "<Figure size 432x288 with 1 Axes>"
            ]
          },
          "metadata": {
            "tags": []
          }
        },
        {
          "output_type": "display_data",
          "data": {
            "image/png": "[encoded data removed]",
            "text/plain": [
              "<Figure size 432x288 with 1 Axes>"
            ]
          },
          "metadata": {
            "tags": []
          }
        },
        {
          "output_type": "display_data",
          "data": {
            "image/png": "[encoded data removed]",
            "text/plain": [
              "<Figure size 432x288 with 1 Axes>"
            ]
          },
          "metadata": {
            "tags": []
          }
        },
        {
          "output_type": "display_data",
          "data": {
            "image/png": "[encoded data removed]",
            "text/plain": [
              "<Figure size 432x288 with 1 Axes>"
            ]
          },
          "metadata": {
            "tags": []
          }
        }
      ]
    }
  ]
}